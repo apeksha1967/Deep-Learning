{
 "cells": [
  {
   "cell_type": "code",
   "execution_count": 1,
   "metadata": {},
   "outputs": [],
   "source": [
    "cifar_dir = 'cifar-10-batches-py/'"
   ]
  },
  {
   "cell_type": "code",
   "execution_count": 2,
   "metadata": {},
   "outputs": [],
   "source": [
    "def unpickle(file):\n",
    "    import pickle\n",
    "    with open(file, 'rb') as fo:\n",
    "        dict = pickle.load(fo, encoding='bytes')\n",
    "        return dict"
   ]
  },
  {
   "cell_type": "code",
   "execution_count": 3,
   "metadata": {},
   "outputs": [],
   "source": [
    "dirs = ['batches.meta','data_batch_1','data_batch_2','data_batch_3','data_batch_4','data_batch_5','test_batch']\n",
    "all_data = list(range(7))"
   ]
  },
  {
   "cell_type": "code",
   "execution_count": 4,
   "metadata": {},
   "outputs": [
    {
     "data": {
      "text/plain": [
       "[0, 1, 2, 3, 4, 5, 6]"
      ]
     },
     "execution_count": 4,
     "metadata": {},
     "output_type": "execute_result"
    }
   ],
   "source": [
    "all_data\n"
   ]
  },
  {
   "cell_type": "code",
   "execution_count": 5,
   "metadata": {},
   "outputs": [],
   "source": [
    "for i,directory in zip(all_data,dirs):\n",
    "    all_data[i] = unpickle(cifar_dir+directory)"
   ]
  },
  {
   "cell_type": "code",
   "execution_count": 6,
   "metadata": {},
   "outputs": [
    {
     "data": {
      "text/plain": [
       "dict_keys([b'num_cases_per_batch', b'label_names', b'num_vis'])"
      ]
     },
     "execution_count": 6,
     "metadata": {},
     "output_type": "execute_result"
    }
   ],
   "source": [
    "all_data[0].keys()"
   ]
  },
  {
   "cell_type": "code",
   "execution_count": 7,
   "metadata": {},
   "outputs": [],
   "source": [
    "batch_meta,data_batch_1,data_batch_2,data_batch_3,data_batch_4,data_batch_5,test_batch = all_data"
   ]
  },
  {
   "cell_type": "code",
   "execution_count": 8,
   "metadata": {},
   "outputs": [
    {
     "data": {
      "text/plain": [
       "dict_keys([b'num_cases_per_batch', b'label_names', b'num_vis'])"
      ]
     },
     "execution_count": 8,
     "metadata": {},
     "output_type": "execute_result"
    }
   ],
   "source": [
    "batch_meta.keys()"
   ]
  },
  {
   "cell_type": "code",
   "execution_count": 9,
   "metadata": {},
   "outputs": [
    {
     "data": {
      "text/plain": [
       "dict_keys([b'batch_label', b'labels', b'data', b'filenames'])"
      ]
     },
     "execution_count": 9,
     "metadata": {},
     "output_type": "execute_result"
    }
   ],
   "source": [
    "data_batch_1.keys()"
   ]
  },
  {
   "cell_type": "code",
   "execution_count": 10,
   "metadata": {},
   "outputs": [
    {
     "data": {
      "text/plain": [
       "list"
      ]
     },
     "execution_count": 10,
     "metadata": {},
     "output_type": "execute_result"
    }
   ],
   "source": [
    "type(batch_meta[b'label_names'])"
   ]
  },
  {
   "cell_type": "code",
   "execution_count": 11,
   "metadata": {},
   "outputs": [
    {
     "data": {
      "text/plain": [
       "b'airplane'"
      ]
     },
     "execution_count": 11,
     "metadata": {},
     "output_type": "execute_result"
    }
   ],
   "source": [
    "batch_meta[b'label_names'][0]"
   ]
  },
  {
   "cell_type": "code",
   "execution_count": 12,
   "metadata": {},
   "outputs": [
    {
     "data": {
      "text/plain": [
       "b'frog'"
      ]
     },
     "execution_count": 12,
     "metadata": {},
     "output_type": "execute_result"
    }
   ],
   "source": [
    "batch_meta[b'label_names'][6]"
   ]
  },
  {
   "cell_type": "code",
   "execution_count": 13,
   "metadata": {},
   "outputs": [
    {
     "data": {
      "text/plain": [
       "6"
      ]
     },
     "execution_count": 13,
     "metadata": {},
     "output_type": "execute_result"
    }
   ],
   "source": [
    "data_batch_1[b'labels'][0]"
   ]
  },
  {
   "cell_type": "code",
   "execution_count": 14,
   "metadata": {},
   "outputs": [
    {
     "data": {
      "text/plain": [
       "array([ 59,  43,  50, ..., 140,  84,  72], dtype=uint8)"
      ]
     },
     "execution_count": 14,
     "metadata": {},
     "output_type": "execute_result"
    }
   ],
   "source": [
    "data_batch_1[b'data'][0]"
   ]
  },
  {
   "cell_type": "code",
   "execution_count": 15,
   "metadata": {},
   "outputs": [
    {
     "data": {
      "text/plain": [
       "(3072,)"
      ]
     },
     "execution_count": 15,
     "metadata": {},
     "output_type": "execute_result"
    }
   ],
   "source": [
    "data_batch_1[b'data'][0].shape"
   ]
  },
  {
   "cell_type": "code",
   "execution_count": 16,
   "metadata": {},
   "outputs": [],
   "source": [
    "import matplotlib.pyplot as plt"
   ]
  },
  {
   "cell_type": "code",
   "execution_count": 17,
   "metadata": {},
   "outputs": [],
   "source": [
    "X = data_batch_1[b'data']"
   ]
  },
  {
   "cell_type": "code",
   "execution_count": 18,
   "metadata": {},
   "outputs": [
    {
     "data": {
      "text/plain": [
       "(10000, 3072)"
      ]
     },
     "execution_count": 18,
     "metadata": {},
     "output_type": "execute_result"
    }
   ],
   "source": [
    "X.shape"
   ]
  },
  {
   "cell_type": "code",
   "execution_count": 19,
   "metadata": {},
   "outputs": [],
   "source": [
    "X = X.reshape(10000,3,32,32).transpose(0,2,3,1).astype('uint8')"
   ]
  },
  {
   "cell_type": "code",
   "execution_count": 20,
   "metadata": {},
   "outputs": [
    {
     "data": {
      "text/plain": [
       "(10000, 32, 32, 3)"
      ]
     },
     "execution_count": 20,
     "metadata": {},
     "output_type": "execute_result"
    }
   ],
   "source": [
    "X.shape"
   ]
  },
  {
   "cell_type": "code",
   "execution_count": 21,
   "metadata": {},
   "outputs": [
    {
     "data": {
      "text/plain": [
       "<matplotlib.image.AxesImage at 0x1e0b9d13fd0>"
      ]
     },
     "execution_count": 21,
     "metadata": {},
     "output_type": "execute_result"
    },
    {
     "data": {
      "image/png": "[encoded data removed]",
      "text/plain": [
       "<Figure size 432x288 with 1 Axes>"
      ]
     },
     "metadata": {
      "needs_background": "light"
     },
     "output_type": "display_data"
    }
   ],
   "source": [
    "plt.imshow(X[0])"
   ]
  },
  {
   "cell_type": "code",
   "execution_count": 22,
   "metadata": {},
   "outputs": [
    {
     "data": {
      "text/plain": [
       "<matplotlib.image.AxesImage at 0x1e0b9db3f28>"
      ]
     },
     "execution_count": 22,
     "metadata": {},
     "output_type": "execute_result"
    },
    {
     "data": {
      "image/png": "[encoded data removed]",
      "text/plain": [
       "<Figure size 432x288 with 1 Axes>"
      ]
     },
     "metadata": {
      "needs_background": "light"
     },
     "output_type": "display_data"
    }
   ],
   "source": [
    "plt.imshow(X[5])"
   ]
  },
  {
   "cell_type": "code",
   "execution_count": 23,
   "metadata": {},
   "outputs": [
    {
     "data": {
      "text/plain": [
       "<matplotlib.image.AxesImage at 0x1e0b9e26048>"
      ]
     },
     "execution_count": 23,
     "metadata": {},
     "output_type": "execute_result"
    },
    {
     "data": {
      "image/png": "[encoded data removed]",
      "text/plain": [
       "<Figure size 432x288 with 1 Axes>"
      ]
     },
     "metadata": {
      "needs_background": "light"
     },
     "output_type": "display_data"
    }
   ],
   "source": [
    "plt.imshow(X[110])"
   ]
  },
  {
   "cell_type": "code",
   "execution_count": 24,
   "metadata": {},
   "outputs": [
    {
     "data": {
      "text/plain": [
       "{b'num_cases_per_batch': 10000,\n",
       " b'label_names': [b'airplane',\n",
       "  b'automobile',\n",
       "  b'bird',\n",
       "  b'cat',\n",
       "  b'deer',\n",
       "  b'dog',\n",
       "  b'frog',\n",
       "  b'horse',\n",
       "  b'ship',\n",
       "  b'truck'],\n",
       " b'num_vis': 3072}"
      ]
     },
     "execution_count": 24,
     "metadata": {},
     "output_type": "execute_result"
    }
   ],
   "source": [
    "batch_meta"
   ]
  },
  {
   "cell_type": "code",
   "execution_count": 25,
   "metadata": {},
   "outputs": [],
   "source": [
    "import numpy as np\n",
    "def one_hot_encode(vector, values=10):\n",
    "    n = len(vector)\n",
    "    out = np.zeros((n,values))\n",
    "    out[range(n),vector] = 1\n",
    "    return out"
   ]
  },
  {
   "cell_type": "code",
   "execution_count": 26,
   "metadata": {},
   "outputs": [],
   "source": [
    "class Cifar():\n",
    "    def __init__(self):\n",
    "        self.i = 0\n",
    "        self.all_train_batches = [data_batch_1, data_batch_2, data_batch_3, data_batch_4, data_batch_5]\n",
    "        self.test_batch = [test_batch]\n",
    "        self.training_images = None\n",
    "        self.training_labels = None\n",
    "        self.test_images = None\n",
    "        self.test_labels = None\n",
    "        \n",
    "    def setUpImages(self):\n",
    "        self.training_images = np.vstack([x[b'data'] for x in self.all_train_batches])\n",
    "        train_len = len(self.training_images)\n",
    "        self.training_images = self.training_images.reshape(train_len, 3, 32, 32).transpose(0,2,3,1)/255\n",
    "        self.training_labels = one_hot_encode(np.hstack([x[b'labels'] for x in self.all_train_batches]), 10)\n",
    "        print(train_len)\n",
    "        print(self.training_images.shape)\n",
    "        \n",
    "        self.test_images = np.vstack([x[b'data'] for x in self.test_batch])\n",
    "        test_len = len(self.test_images)\n",
    "        self.test_images = self.test_images.reshape(test_len, 3, 32, 32).transpose(0,2,3,1)/255\n",
    "        self.test_labels = one_hot_encode(np.hstack([x[b'labels'] for x in self.test_batch]), 10)\n",
    "        print(test_len)\n",
    "    \n",
    "    def next_batch(self,batch_size):\n",
    "        x = self.training_images[self.i : self.i + batch_size].reshape(batch_size,32,32,3)\n",
    "        y = self.training_labels[self.i : self.i + batch_size]\n",
    "        self.i = (self.i + batch_size) % len(self.training_images)\n",
    "        return x,y\n",
    "        \n",
    "        "
   ]
  },
  {
   "cell_type": "code",
   "execution_count": 27,
   "metadata": {},
   "outputs": [],
   "source": [
    "ch = Cifar()"
   ]
  },
  {
   "cell_type": "code",
   "execution_count": 28,
   "metadata": {},
   "outputs": [
    {
     "name": "stdout",
     "output_type": "stream",
     "text": [
      "50000\n",
      "(50000, 32, 32, 3)\n",
      "10000\n"
     ]
    }
   ],
   "source": [
    "ch.setUpImages()"
   ]
  },
  {
   "cell_type": "code",
   "execution_count": 29,
   "metadata": {},
   "outputs": [
    {
     "data": {
      "text/plain": [
       "(array([[[[0.23137255, 0.24313725, 0.24705882],\n",
       "          [0.16862745, 0.18039216, 0.17647059],\n",
       "          [0.19607843, 0.18823529, 0.16862745],\n",
       "          ...,\n",
       "          [0.61960784, 0.51764706, 0.42352941],\n",
       "          [0.59607843, 0.49019608, 0.4       ],\n",
       "          [0.58039216, 0.48627451, 0.40392157]],\n",
       " \n",
       "         [[0.0627451 , 0.07843137, 0.07843137],\n",
       "          [0.        , 0.        , 0.        ],\n",
       "          [0.07058824, 0.03137255, 0.        ],\n",
       "          ...,\n",
       "          [0.48235294, 0.34509804, 0.21568627],\n",
       "          [0.46666667, 0.3254902 , 0.19607843],\n",
       "          [0.47843137, 0.34117647, 0.22352941]],\n",
       " \n",
       "         [[0.09803922, 0.09411765, 0.08235294],\n",
       "          [0.0627451 , 0.02745098, 0.        ],\n",
       "          [0.19215686, 0.10588235, 0.03137255],\n",
       "          ...,\n",
       "          [0.4627451 , 0.32941176, 0.19607843],\n",
       "          [0.47058824, 0.32941176, 0.19607843],\n",
       "          [0.42745098, 0.28627451, 0.16470588]],\n",
       " \n",
       "         ...,\n",
       " \n",
       "         [[0.81568627, 0.66666667, 0.37647059],\n",
       "          [0.78823529, 0.6       , 0.13333333],\n",
       "          [0.77647059, 0.63137255, 0.10196078],\n",
       "          ...,\n",
       "          [0.62745098, 0.52156863, 0.2745098 ],\n",
       "          [0.21960784, 0.12156863, 0.02745098],\n",
       "          [0.20784314, 0.13333333, 0.07843137]],\n",
       " \n",
       "         [[0.70588235, 0.54509804, 0.37647059],\n",
       "          [0.67843137, 0.48235294, 0.16470588],\n",
       "          [0.72941176, 0.56470588, 0.11764706],\n",
       "          ...,\n",
       "          [0.72156863, 0.58039216, 0.36862745],\n",
       "          [0.38039216, 0.24313725, 0.13333333],\n",
       "          [0.3254902 , 0.20784314, 0.13333333]],\n",
       " \n",
       "         [[0.69411765, 0.56470588, 0.45490196],\n",
       "          [0.65882353, 0.50588235, 0.36862745],\n",
       "          [0.70196078, 0.55686275, 0.34117647],\n",
       "          ...,\n",
       "          [0.84705882, 0.72156863, 0.54901961],\n",
       "          [0.59215686, 0.4627451 , 0.32941176],\n",
       "          [0.48235294, 0.36078431, 0.28235294]]],\n",
       " \n",
       " \n",
       "        [[[0.60392157, 0.69411765, 0.73333333],\n",
       "          [0.49411765, 0.5372549 , 0.53333333],\n",
       "          [0.41176471, 0.40784314, 0.37254902],\n",
       "          ...,\n",
       "          [0.35686275, 0.37254902, 0.27843137],\n",
       "          [0.34117647, 0.35294118, 0.27843137],\n",
       "          [0.30980392, 0.31764706, 0.2745098 ]],\n",
       " \n",
       "         [[0.54901961, 0.62745098, 0.6627451 ],\n",
       "          [0.56862745, 0.6       , 0.60392157],\n",
       "          [0.49019608, 0.49019608, 0.4627451 ],\n",
       "          ...,\n",
       "          [0.37647059, 0.38823529, 0.30588235],\n",
       "          [0.30196078, 0.31372549, 0.24313725],\n",
       "          [0.27843137, 0.28627451, 0.23921569]],\n",
       " \n",
       "         [[0.54901961, 0.60784314, 0.64313725],\n",
       "          [0.54509804, 0.57254902, 0.58431373],\n",
       "          [0.45098039, 0.45098039, 0.43921569],\n",
       "          ...,\n",
       "          [0.30980392, 0.32156863, 0.25098039],\n",
       "          [0.26666667, 0.2745098 , 0.21568627],\n",
       "          [0.2627451 , 0.27058824, 0.21568627]],\n",
       " \n",
       "         ...,\n",
       " \n",
       "         [[0.68627451, 0.65490196, 0.65098039],\n",
       "          [0.61176471, 0.60392157, 0.62745098],\n",
       "          [0.60392157, 0.62745098, 0.66666667],\n",
       "          ...,\n",
       "          [0.16470588, 0.13333333, 0.14117647],\n",
       "          [0.23921569, 0.20784314, 0.22352941],\n",
       "          [0.36470588, 0.3254902 , 0.35686275]],\n",
       " \n",
       "         [[0.64705882, 0.60392157, 0.50196078],\n",
       "          [0.61176471, 0.59607843, 0.50980392],\n",
       "          [0.62352941, 0.63137255, 0.55686275],\n",
       "          ...,\n",
       "          [0.40392157, 0.36470588, 0.37647059],\n",
       "          [0.48235294, 0.44705882, 0.47058824],\n",
       "          [0.51372549, 0.4745098 , 0.51372549]],\n",
       " \n",
       "         [[0.63921569, 0.58039216, 0.47058824],\n",
       "          [0.61960784, 0.58039216, 0.47843137],\n",
       "          [0.63921569, 0.61176471, 0.52156863],\n",
       "          ...,\n",
       "          [0.56078431, 0.52156863, 0.54509804],\n",
       "          [0.56078431, 0.5254902 , 0.55686275],\n",
       "          [0.56078431, 0.52156863, 0.56470588]]],\n",
       " \n",
       " \n",
       "        [[[1.        , 1.        , 1.        ],\n",
       "          [0.99215686, 0.99215686, 0.99215686],\n",
       "          [0.99215686, 0.99215686, 0.99215686],\n",
       "          ...,\n",
       "          [0.99215686, 0.99215686, 0.99215686],\n",
       "          [0.99215686, 0.99215686, 0.99215686],\n",
       "          [0.99215686, 0.99215686, 0.99215686]],\n",
       " \n",
       "         [[1.        , 1.        , 1.        ],\n",
       "          [1.        , 1.        , 1.        ],\n",
       "          [1.        , 1.        , 1.        ],\n",
       "          ...,\n",
       "          [1.        , 1.        , 1.        ],\n",
       "          [1.        , 1.        , 1.        ],\n",
       "          [1.        , 1.        , 1.        ]],\n",
       " \n",
       "         [[1.        , 1.        , 1.        ],\n",
       "          [0.99607843, 0.99607843, 0.99607843],\n",
       "          [0.99607843, 0.99607843, 0.99607843],\n",
       "          ...,\n",
       "          [0.99607843, 0.99607843, 0.99607843],\n",
       "          [0.99607843, 0.99607843, 0.99607843],\n",
       "          [0.99607843, 0.99607843, 0.99607843]],\n",
       " \n",
       "         ...,\n",
       " \n",
       "         [[0.44313725, 0.47058824, 0.43921569],\n",
       "          [0.43529412, 0.4627451 , 0.43529412],\n",
       "          [0.41176471, 0.43921569, 0.41568627],\n",
       "          ...,\n",
       "          [0.28235294, 0.31764706, 0.31372549],\n",
       "          [0.28235294, 0.31372549, 0.30980392],\n",
       "          [0.28235294, 0.31372549, 0.30980392]],\n",
       " \n",
       "         [[0.43529412, 0.4627451 , 0.43137255],\n",
       "          [0.40784314, 0.43529412, 0.40784314],\n",
       "          [0.38823529, 0.41568627, 0.38431373],\n",
       "          ...,\n",
       "          [0.26666667, 0.29411765, 0.28627451],\n",
       "          [0.2745098 , 0.29803922, 0.29411765],\n",
       "          [0.30588235, 0.32941176, 0.32156863]],\n",
       " \n",
       "         [[0.41568627, 0.44313725, 0.41176471],\n",
       "          [0.38823529, 0.41568627, 0.38431373],\n",
       "          [0.37254902, 0.4       , 0.36862745],\n",
       "          ...,\n",
       "          [0.30588235, 0.33333333, 0.3254902 ],\n",
       "          [0.30980392, 0.33333333, 0.3254902 ],\n",
       "          [0.31372549, 0.3372549 , 0.32941176]]],\n",
       " \n",
       " \n",
       "        ...,\n",
       " \n",
       " \n",
       "        [[[0.12941176, 0.17254902, 0.10588235],\n",
       "          [0.11372549, 0.17254902, 0.12156863],\n",
       "          [0.1254902 , 0.17647059, 0.13333333],\n",
       "          ...,\n",
       "          [0.61568627, 0.77254902, 0.86666667],\n",
       "          [0.63529412, 0.78039216, 0.84705882],\n",
       "          [0.62745098, 0.76078431, 0.83529412]],\n",
       " \n",
       "         [[0.09803922, 0.15686275, 0.09411765],\n",
       "          [0.09411765, 0.15686275, 0.10588235],\n",
       "          [0.09019608, 0.14117647, 0.11372549],\n",
       "          ...,\n",
       "          [0.68235294, 0.81960784, 0.89019608],\n",
       "          [0.65490196, 0.78039216, 0.85098039],\n",
       "          [0.64705882, 0.77647059, 0.8627451 ]],\n",
       " \n",
       "         [[0.21568627, 0.21960784, 0.18431373],\n",
       "          [0.18431373, 0.21960784, 0.18039216],\n",
       "          [0.20784314, 0.23921569, 0.20392157],\n",
       "          ...,\n",
       "          [0.50588235, 0.63529412, 0.64705882],\n",
       "          [0.43137255, 0.5372549 , 0.52156863],\n",
       "          [0.48235294, 0.6       , 0.60392157]],\n",
       " \n",
       "         ...,\n",
       " \n",
       "         [[0.41568627, 0.38039216, 0.23529412],\n",
       "          [0.40392157, 0.35686275, 0.22745098],\n",
       "          [0.33333333, 0.39215686, 0.20784314],\n",
       "          ...,\n",
       "          [0.30588235, 0.35686275, 0.20392157],\n",
       "          [0.21176471, 0.25098039, 0.14117647],\n",
       "          [0.17254902, 0.21960784, 0.12156863]],\n",
       " \n",
       "         [[0.38039216, 0.35686275, 0.23137255],\n",
       "          [0.36078431, 0.38039216, 0.22352941],\n",
       "          [0.34509804, 0.42352941, 0.23921569],\n",
       "          ...,\n",
       "          [0.37647059, 0.41960784, 0.23137255],\n",
       "          [0.31764706, 0.36862745, 0.18431373],\n",
       "          [0.27843137, 0.34509804, 0.16078431]],\n",
       " \n",
       "         [[0.41568627, 0.46666667, 0.35686275],\n",
       "          [0.50196078, 0.55294118, 0.45098039],\n",
       "          [0.55686275, 0.61960784, 0.5372549 ],\n",
       "          ...,\n",
       "          [0.39215686, 0.42352941, 0.24705882],\n",
       "          [0.31764706, 0.36862745, 0.18431373],\n",
       "          [0.27843137, 0.35294118, 0.15686275]]],\n",
       " \n",
       " \n",
       "        [[[0.35294118, 0.30196078, 0.23137255],\n",
       "          [0.36862745, 0.31764706, 0.25098039],\n",
       "          [0.34117647, 0.31764706, 0.25490196],\n",
       "          ...,\n",
       "          [0.18039216, 0.17254902, 0.1372549 ],\n",
       "          [0.20784314, 0.17647059, 0.14901961],\n",
       "          [0.22352941, 0.18039216, 0.14901961]],\n",
       " \n",
       "         [[0.37647059, 0.36078431, 0.26666667],\n",
       "          [0.39607843, 0.32941176, 0.24705882],\n",
       "          [0.37254902, 0.31372549, 0.25882353],\n",
       "          ...,\n",
       "          [0.23529412, 0.2       , 0.17254902],\n",
       "          [0.28235294, 0.23529412, 0.19607843],\n",
       "          [0.27843137, 0.21960784, 0.17647059]],\n",
       " \n",
       "         [[0.33333333, 0.34117647, 0.25882353],\n",
       "          [0.44313725, 0.4       , 0.29411765],\n",
       "          [0.45098039, 0.39607843, 0.29803922],\n",
       "          ...,\n",
       "          [0.35294118, 0.32941176, 0.22352941],\n",
       "          [0.37647059, 0.34117647, 0.23529412],\n",
       "          [0.35686275, 0.30980392, 0.21568627]],\n",
       " \n",
       "         ...,\n",
       " \n",
       "         [[0.4       , 0.41176471, 0.34509804],\n",
       "          [0.23921569, 0.27058824, 0.18431373],\n",
       "          [0.27058824, 0.29019608, 0.20784314],\n",
       "          ...,\n",
       "          [0.61568627, 0.55686275, 0.37254902],\n",
       "          [0.59607843, 0.5372549 , 0.36862745],\n",
       "          [0.6627451 , 0.59607843, 0.37254902]],\n",
       " \n",
       "         [[0.39607843, 0.37647059, 0.27058824],\n",
       "          [0.27058824, 0.25882353, 0.20392157],\n",
       "          [0.25098039, 0.26666667, 0.20784314],\n",
       "          ...,\n",
       "          [0.51372549, 0.49019608, 0.39215686],\n",
       "          [0.48235294, 0.45882353, 0.35686275],\n",
       "          [0.45098039, 0.42745098, 0.30980392]],\n",
       " \n",
       "         [[0.35686275, 0.3372549 , 0.23921569],\n",
       "          [0.30588235, 0.28235294, 0.22745098],\n",
       "          [0.34117647, 0.3372549 , 0.26666667],\n",
       "          ...,\n",
       "          [0.52941176, 0.49411765, 0.33333333],\n",
       "          [0.47058824, 0.45490196, 0.31764706],\n",
       "          [0.4       , 0.37647059, 0.31372549]]],\n",
       " \n",
       " \n",
       "        [[[0.24313725, 0.25098039, 0.17254902],\n",
       "          [0.19607843, 0.19607843, 0.10196078],\n",
       "          [0.18039216, 0.17254902, 0.0745098 ],\n",
       "          ...,\n",
       "          [0.65490196, 0.6745098 , 0.27058824],\n",
       "          [0.71764706, 0.72156863, 0.29803922],\n",
       "          [0.5372549 , 0.53333333, 0.28235294]],\n",
       " \n",
       "         [[0.24705882, 0.25490196, 0.14509804],\n",
       "          [0.21568627, 0.20784314, 0.10196078],\n",
       "          [0.20392157, 0.19607843, 0.10588235],\n",
       "          ...,\n",
       "          [0.63921569, 0.6627451 , 0.23921569],\n",
       "          [0.67058824, 0.68235294, 0.29411765],\n",
       "          [0.56862745, 0.57254902, 0.30196078]],\n",
       " \n",
       "         [[0.22745098, 0.24313725, 0.14117647],\n",
       "          [0.25098039, 0.25882353, 0.14509804],\n",
       "          [0.21960784, 0.23529412, 0.14509804],\n",
       "          ...,\n",
       "          [0.6       , 0.60784314, 0.24313725],\n",
       "          [0.58823529, 0.60392157, 0.25098039],\n",
       "          [0.48235294, 0.50196078, 0.22352941]],\n",
       " \n",
       "         ...,\n",
       " \n",
       "         [[0.6745098 , 0.52941176, 0.38823529],\n",
       "          [0.56078431, 0.43137255, 0.32941176],\n",
       "          [0.50980392, 0.21960784, 0.16470588],\n",
       "          ...,\n",
       "          [0.36862745, 0.29411765, 0.21960784],\n",
       "          [0.55294118, 0.42352941, 0.3372549 ],\n",
       "          [0.54509804, 0.41176471, 0.31764706]],\n",
       " \n",
       "         [[0.71764706, 0.57254902, 0.45882353],\n",
       "          [0.58823529, 0.4627451 , 0.37254902],\n",
       "          [0.31372549, 0.25098039, 0.17254902],\n",
       "          ...,\n",
       "          [0.31764706, 0.28235294, 0.23529412],\n",
       "          [0.52941176, 0.4627451 , 0.38431373],\n",
       "          [0.56078431, 0.49019608, 0.43137255]],\n",
       " \n",
       "         [[0.81960784, 0.68235294, 0.56470588],\n",
       "          [0.71372549, 0.59215686, 0.48235294],\n",
       "          [0.54509804, 0.42745098, 0.3254902 ],\n",
       "          ...,\n",
       "          [0.23137255, 0.21176471, 0.18431373],\n",
       "          [0.50980392, 0.46666667, 0.43529412],\n",
       "          [0.6627451 , 0.61176471, 0.62745098]]]]),\n",
       " array([[0., 0., 0., 0., 0., 0., 1., 0., 0., 0.],\n",
       "        [0., 0., 0., 0., 0., 0., 0., 0., 0., 1.],\n",
       "        [0., 0., 0., 0., 0., 0., 0., 0., 0., 1.],\n",
       "        [0., 0., 0., 0., 1., 0., 0., 0., 0., 0.],\n",
       "        [0., 1., 0., 0., 0., 0., 0., 0., 0., 0.],\n",
       "        [0., 1., 0., 0., 0., 0., 0., 0., 0., 0.],\n",
       "        [0., 0., 1., 0., 0., 0., 0., 0., 0., 0.],\n",
       "        [0., 0., 0., 0., 0., 0., 0., 1., 0., 0.],\n",
       "        [0., 0., 0., 0., 0., 0., 0., 0., 1., 0.],\n",
       "        [0., 0., 0., 1., 0., 0., 0., 0., 0., 0.],\n",
       "        [0., 0., 0., 0., 1., 0., 0., 0., 0., 0.],\n",
       "        [0., 0., 0., 0., 0., 0., 0., 1., 0., 0.],\n",
       "        [0., 0., 0., 0., 0., 0., 0., 1., 0., 0.],\n",
       "        [0., 0., 1., 0., 0., 0., 0., 0., 0., 0.],\n",
       "        [0., 0., 0., 0., 0., 0., 0., 0., 0., 1.],\n",
       "        [0., 0., 0., 0., 0., 0., 0., 0., 0., 1.],\n",
       "        [0., 0., 0., 0., 0., 0., 0., 0., 0., 1.],\n",
       "        [0., 0., 0., 1., 0., 0., 0., 0., 0., 0.],\n",
       "        [0., 0., 1., 0., 0., 0., 0., 0., 0., 0.],\n",
       "        [0., 0., 0., 0., 0., 0., 1., 0., 0., 0.],\n",
       "        [0., 0., 0., 0., 1., 0., 0., 0., 0., 0.],\n",
       "        [0., 0., 0., 1., 0., 0., 0., 0., 0., 0.],\n",
       "        [0., 0., 0., 0., 0., 0., 1., 0., 0., 0.],\n",
       "        [0., 0., 0., 0., 0., 0., 1., 0., 0., 0.],\n",
       "        [0., 0., 1., 0., 0., 0., 0., 0., 0., 0.],\n",
       "        [0., 0., 0., 0., 0., 0., 1., 0., 0., 0.],\n",
       "        [0., 0., 0., 1., 0., 0., 0., 0., 0., 0.],\n",
       "        [0., 0., 0., 0., 0., 1., 0., 0., 0., 0.],\n",
       "        [0., 0., 0., 0., 1., 0., 0., 0., 0., 0.],\n",
       "        [1., 0., 0., 0., 0., 0., 0., 0., 0., 0.],\n",
       "        [1., 0., 0., 0., 0., 0., 0., 0., 0., 0.],\n",
       "        [0., 0., 0., 0., 0., 0., 0., 0., 0., 1.],\n",
       "        [0., 1., 0., 0., 0., 0., 0., 0., 0., 0.],\n",
       "        [0., 0., 0., 1., 0., 0., 0., 0., 0., 0.],\n",
       "        [0., 0., 0., 0., 1., 0., 0., 0., 0., 0.],\n",
       "        [1., 0., 0., 0., 0., 0., 0., 0., 0., 0.],\n",
       "        [0., 0., 0., 1., 0., 0., 0., 0., 0., 0.],\n",
       "        [0., 0., 0., 0., 0., 0., 0., 1., 0., 0.],\n",
       "        [0., 0., 0., 1., 0., 0., 0., 0., 0., 0.],\n",
       "        [0., 0., 0., 1., 0., 0., 0., 0., 0., 0.],\n",
       "        [0., 0., 0., 0., 0., 1., 0., 0., 0., 0.],\n",
       "        [0., 0., 1., 0., 0., 0., 0., 0., 0., 0.],\n",
       "        [0., 0., 1., 0., 0., 0., 0., 0., 0., 0.],\n",
       "        [0., 0., 0., 0., 0., 0., 0., 1., 0., 0.],\n",
       "        [0., 1., 0., 0., 0., 0., 0., 0., 0., 0.],\n",
       "        [0., 1., 0., 0., 0., 0., 0., 0., 0., 0.],\n",
       "        [0., 1., 0., 0., 0., 0., 0., 0., 0., 0.],\n",
       "        [0., 0., 1., 0., 0., 0., 0., 0., 0., 0.],\n",
       "        [0., 0., 1., 0., 0., 0., 0., 0., 0., 0.],\n",
       "        [1., 0., 0., 0., 0., 0., 0., 0., 0., 0.],\n",
       "        [0., 0., 0., 0., 0., 0., 0., 0., 0., 1.],\n",
       "        [0., 0., 0., 0., 0., 1., 0., 0., 0., 0.],\n",
       "        [0., 0., 0., 0., 0., 0., 0., 1., 0., 0.],\n",
       "        [0., 0., 0., 0., 0., 0., 0., 0., 0., 1.],\n",
       "        [0., 0., 1., 0., 0., 0., 0., 0., 0., 0.],\n",
       "        [0., 0., 1., 0., 0., 0., 0., 0., 0., 0.],\n",
       "        [0., 0., 0., 0., 0., 1., 0., 0., 0., 0.],\n",
       "        [0., 0., 1., 0., 0., 0., 0., 0., 0., 0.],\n",
       "        [0., 0., 0., 0., 1., 0., 0., 0., 0., 0.],\n",
       "        [0., 0., 0., 1., 0., 0., 0., 0., 0., 0.],\n",
       "        [0., 1., 0., 0., 0., 0., 0., 0., 0., 0.],\n",
       "        [0., 1., 0., 0., 0., 0., 0., 0., 0., 0.],\n",
       "        [0., 0., 0., 0., 0., 0., 0., 0., 1., 0.],\n",
       "        [0., 0., 1., 0., 0., 0., 0., 0., 0., 0.],\n",
       "        [0., 1., 0., 0., 0., 0., 0., 0., 0., 0.],\n",
       "        [0., 1., 0., 0., 0., 0., 0., 0., 0., 0.],\n",
       "        [0., 0., 0., 0., 1., 0., 0., 0., 0., 0.],\n",
       "        [0., 0., 0., 0., 0., 0., 0., 0., 0., 1.],\n",
       "        [0., 0., 0., 0., 0., 0., 0., 1., 0., 0.],\n",
       "        [0., 0., 0., 0., 0., 0., 0., 0., 1., 0.],\n",
       "        [0., 0., 0., 0., 0., 1., 0., 0., 0., 0.],\n",
       "        [0., 0., 0., 0., 0., 0., 0., 0., 0., 1.],\n",
       "        [0., 0., 0., 0., 0., 0., 1., 0., 0., 0.],\n",
       "        [0., 0., 0., 0., 0., 0., 0., 1., 0., 0.],\n",
       "        [0., 0., 0., 1., 0., 0., 0., 0., 0., 0.],\n",
       "        [0., 1., 0., 0., 0., 0., 0., 0., 0., 0.],\n",
       "        [0., 0., 0., 0., 0., 0., 0., 0., 0., 1.],\n",
       "        [1., 0., 0., 0., 0., 0., 0., 0., 0., 0.],\n",
       "        [0., 0., 0., 1., 0., 0., 0., 0., 0., 0.],\n",
       "        [0., 1., 0., 0., 0., 0., 0., 0., 0., 0.],\n",
       "        [0., 0., 0., 1., 0., 0., 0., 0., 0., 0.],\n",
       "        [0., 0., 0., 0., 0., 1., 0., 0., 0., 0.],\n",
       "        [0., 0., 0., 0., 1., 0., 0., 0., 0., 0.],\n",
       "        [0., 0., 0., 0., 0., 1., 0., 0., 0., 0.],\n",
       "        [0., 0., 0., 0., 0., 0., 0., 1., 0., 0.],\n",
       "        [0., 0., 0., 0., 0., 0., 0., 1., 0., 0.],\n",
       "        [0., 0., 0., 0., 1., 0., 0., 0., 0., 0.],\n",
       "        [0., 0., 0., 0., 0., 0., 0., 1., 0., 0.],\n",
       "        [0., 0., 0., 0., 0., 0., 0., 0., 0., 1.],\n",
       "        [0., 0., 0., 0., 1., 0., 0., 0., 0., 0.],\n",
       "        [0., 0., 1., 0., 0., 0., 0., 0., 0., 0.],\n",
       "        [0., 0., 0., 1., 0., 0., 0., 0., 0., 0.],\n",
       "        [0., 0., 0., 0., 0., 0., 0., 0., 1., 0.],\n",
       "        [1., 0., 0., 0., 0., 0., 0., 0., 0., 0.],\n",
       "        [0., 1., 0., 0., 0., 0., 0., 0., 0., 0.],\n",
       "        [0., 0., 0., 0., 0., 0., 1., 0., 0., 0.],\n",
       "        [0., 1., 0., 0., 0., 0., 0., 0., 0., 0.],\n",
       "        [0., 1., 0., 0., 0., 0., 0., 0., 0., 0.],\n",
       "        [0., 0., 0., 0., 1., 0., 0., 0., 0., 0.],\n",
       "        [0., 1., 0., 0., 0., 0., 0., 0., 0., 0.]]))"
      ]
     },
     "execution_count": 29,
     "metadata": {},
     "output_type": "execute_result"
    }
   ],
   "source": [
    "ch.next_batch(100)"
   ]
  },
  {
   "cell_type": "code",
   "execution_count": 30,
   "metadata": {},
   "outputs": [],
   "source": [
    "import tensorflow as tf"
   ]
  },
  {
   "cell_type": "code",
   "execution_count": 31,
   "metadata": {},
   "outputs": [],
   "source": [
    "def init_weight(shape):\n",
    "    initRandomWeights = tf.random_normal(shape, stddev = 0.1)\n",
    "    return tf.Variable(initRandomWeights)\n",
    "\n",
    "def init_bias(shape):\n",
    "    bias = tf.constant(0.1, shape = shape)\n",
    "    return tf.Variable(bias)\n",
    "\n",
    "def conv2d(x,W):\n",
    "    return tf.nn.conv2d(x,W,strides=[1,1,1,1],padding='SAME')\n",
    "\n",
    "def max_pooling(x):\n",
    "#     ksize = size of window for each dimension of input tensor\n",
    "#     1,h,w channel\n",
    "    return tf.nn.max_pool(x,ksize=[1,2,2,1],strides=[1,2,2,1],padding='SAME')\n",
    "\n",
    "def conv_layer(input_x,shape):\n",
    "    W = init_weight(shape)\n",
    "    b = init_bias([shape[3]])\n",
    "    return tf.nn.relu(conv2d(input_x,W)+b)\n",
    "\n",
    "#  NN applied :\n",
    "def fully_connected(input_layer,size):\n",
    "    input_size = int(input_layer.get_shape()[1])\n",
    "    W = init_weight([input_size,size])\n",
    "    b = init_bias([size])\n",
    "    return tf.matmul(input_layer,W) + b"
   ]
  },
  {
   "cell_type": "code",
   "execution_count": 32,
   "metadata": {},
   "outputs": [],
   "source": [
    "x = tf.placeholder(tf.float32, shape=[None,32,32,3])\n",
    "y = tf.placeholder(tf.float32, shape=[None,10])"
   ]
  },
  {
   "cell_type": "code",
   "execution_count": 33,
   "metadata": {},
   "outputs": [
    {
     "name": "stdout",
     "output_type": "stream",
     "text": [
      "WARNING:tensorflow:From D:\\Anaconda3\\lib\\site-packages\\tensorflow\\python\\framework\\op_def_library.py:263: colocate_with (from tensorflow.python.framework.ops) is deprecated and will be removed in a future version.\n",
      "Instructions for updating:\n",
      "Colocations handled automatically by placer.\n"
     ]
    }
   ],
   "source": [
    "conv_1 = conv_layer(x, shape=[4,4,3,32])\n",
    "convMaxPooling = max_pooling(conv_1)"
   ]
  },
  {
   "cell_type": "code",
   "execution_count": 34,
   "metadata": {},
   "outputs": [],
   "source": [
    "conv_2 = conv_layer(convMaxPooling, shape=[4,4,32,64])\n",
    "convMaxPooling_2 = max_pooling(conv_2)"
   ]
  },
  {
   "cell_type": "code",
   "execution_count": 35,
   "metadata": {},
   "outputs": [],
   "source": [
    "conv_flatten = tf.reshape(convMaxPooling_2,[-1,8*8*64])"
   ]
  },
  {
   "cell_type": "code",
   "execution_count": 36,
   "metadata": {},
   "outputs": [],
   "source": [
    "full_layer = tf.nn.relu(fully_connected(conv_flatten,1024))"
   ]
  },
  {
   "cell_type": "code",
   "execution_count": 37,
   "metadata": {},
   "outputs": [
    {
     "name": "stdout",
     "output_type": "stream",
     "text": [
      "WARNING:tensorflow:From <ipython-input-37-77c3ce3c0e5d>:2: calling dropout (from tensorflow.python.ops.nn_ops) with keep_prob is deprecated and will be removed in a future version.\n",
      "Instructions for updating:\n",
      "Please use `rate` instead of `keep_prob`. Rate should be set to `rate = 1 - keep_prob`.\n"
     ]
    }
   ],
   "source": [
    "hold_prob = tf.placeholder(tf.float32)\n",
    "full_dropout = tf.nn.dropout(full_layer, keep_prob=hold_prob)"
   ]
  },
  {
   "cell_type": "code",
   "execution_count": 38,
   "metadata": {},
   "outputs": [],
   "source": [
    "y_pred = fully_connected(full_dropout,10)"
   ]
  },
  {
   "cell_type": "code",
   "execution_count": 39,
   "metadata": {},
   "outputs": [],
   "source": [
    "cross_entropy = tf.reduce_mean(tf.nn.softmax_cross_entropy_with_logits_v2(labels=y, logits=y_pred))"
   ]
  },
  {
   "cell_type": "code",
   "execution_count": 40,
   "metadata": {},
   "outputs": [],
   "source": [
    "optimizer = tf.train.GradientDescentOptimizer(learning_rate=0.001)\n",
    "train = optimizer.minimize(cross_entropy)"
   ]
  },
  {
   "cell_type": "code",
   "execution_count": 41,
   "metadata": {},
   "outputs": [],
   "source": [
    "init = tf.global_variables_initializer()"
   ]
  },
  {
   "cell_type": "code",
   "execution_count": null,
   "metadata": {},
   "outputs": [],
   "source": []
  },
  {
   "cell_type": "code",
   "execution_count": 42,
   "metadata": {},
   "outputs": [
    {
     "name": "stdout",
     "output_type": "stream",
     "text": [
      "Currently on step 0\n",
      "Accuracy is:\n",
      "0.1141\n",
      "\n",
      "\n",
      "Currently on step 100\n",
      "Accuracy is:\n",
      "0.1865\n",
      "\n",
      "\n",
      "Currently on step 200\n",
      "Accuracy is:\n",
      "0.2182\n",
      "\n",
      "\n",
      "Currently on step 300\n",
      "Accuracy is:\n",
      "0.2331\n",
      "\n",
      "\n",
      "Currently on step 400\n",
      "Accuracy is:\n",
      "0.2394\n",
      "\n",
      "\n",
      "Currently on step 500\n",
      "Accuracy is:\n",
      "0.2524\n",
      "\n",
      "\n",
      "Currently on step 600\n",
      "Accuracy is:\n",
      "0.2641\n",
      "\n",
      "\n",
      "Currently on step 700\n",
      "Accuracy is:\n",
      "0.2677\n",
      "\n",
      "\n",
      "Currently on step 800\n",
      "Accuracy is:\n",
      "0.2801\n",
      "\n",
      "\n",
      "Currently on step 900\n",
      "Accuracy is:\n",
      "0.2765\n",
      "\n",
      "\n",
      "Currently on step 1000\n",
      "Accuracy is:\n",
      "0.2904\n",
      "\n",
      "\n",
      "Currently on step 1100\n",
      "Accuracy is:\n",
      "0.2943\n",
      "\n",
      "\n",
      "Currently on step 1200\n",
      "Accuracy is:\n",
      "0.2989\n",
      "\n",
      "\n",
      "Currently on step 1300\n",
      "Accuracy is:\n",
      "0.2979\n",
      "\n",
      "\n",
      "Currently on step 1400\n",
      "Accuracy is:\n",
      "0.3062\n",
      "\n",
      "\n",
      "Currently on step 1500\n",
      "Accuracy is:\n",
      "0.3097\n",
      "\n",
      "\n",
      "Currently on step 1600\n",
      "Accuracy is:\n",
      "0.3098\n",
      "\n",
      "\n",
      "Currently on step 1700\n",
      "Accuracy is:\n",
      "0.3137\n",
      "\n",
      "\n",
      "Currently on step 1800\n",
      "Accuracy is:\n",
      "0.3171\n",
      "\n",
      "\n",
      "Currently on step 1900\n",
      "Accuracy is:\n",
      "0.32\n",
      "\n",
      "\n",
      "Currently on step 2000\n",
      "Accuracy is:\n",
      "0.3232\n",
      "\n",
      "\n",
      "Currently on step 2100\n",
      "Accuracy is:\n",
      "0.3208\n",
      "\n",
      "\n",
      "Currently on step 2200\n",
      "Accuracy is:\n",
      "0.3344\n",
      "\n",
      "\n",
      "Currently on step 2300\n",
      "Accuracy is:\n",
      "0.332\n",
      "\n",
      "\n",
      "Currently on step 2400\n",
      "Accuracy is:\n",
      "0.3329\n",
      "\n",
      "\n",
      "Currently on step 2500\n",
      "Accuracy is:\n",
      "0.3406\n",
      "\n",
      "\n",
      "Currently on step 2600\n",
      "Accuracy is:\n",
      "0.3314\n",
      "\n",
      "\n",
      "Currently on step 2700\n",
      "Accuracy is:\n",
      "0.346\n",
      "\n",
      "\n",
      "Currently on step 2800\n",
      "Accuracy is:\n",
      "0.3458\n",
      "\n",
      "\n",
      "Currently on step 2900\n",
      "Accuracy is:\n",
      "0.3485\n",
      "\n",
      "\n",
      "Currently on step 3000\n",
      "Accuracy is:\n",
      "0.3516\n",
      "\n",
      "\n",
      "Currently on step 3100\n",
      "Accuracy is:\n",
      "0.3532\n",
      "\n",
      "\n",
      "Currently on step 3200\n",
      "Accuracy is:\n",
      "0.3571\n",
      "\n",
      "\n",
      "Currently on step 3300\n",
      "Accuracy is:\n",
      "0.3574\n",
      "\n",
      "\n",
      "Currently on step 3400\n",
      "Accuracy is:\n",
      "0.3574\n",
      "\n",
      "\n",
      "Currently on step 3500\n",
      "Accuracy is:\n",
      "0.3583\n",
      "\n",
      "\n",
      "Currently on step 3600\n",
      "Accuracy is:\n",
      "0.3664\n",
      "\n",
      "\n",
      "Currently on step 3700\n",
      "Accuracy is:\n",
      "0.3674\n",
      "\n",
      "\n",
      "Currently on step 3800\n",
      "Accuracy is:\n",
      "0.3682\n",
      "\n",
      "\n",
      "Currently on step 3900\n",
      "Accuracy is:\n",
      "0.3687\n",
      "\n",
      "\n",
      "Currently on step 4000\n",
      "Accuracy is:\n",
      "0.3709\n",
      "\n",
      "\n",
      "Currently on step 4100\n",
      "Accuracy is:\n",
      "0.3728\n",
      "\n",
      "\n",
      "Currently on step 4200\n",
      "Accuracy is:\n",
      "0.3751\n",
      "\n",
      "\n",
      "Currently on step 4300\n",
      "Accuracy is:\n",
      "0.3709\n",
      "\n",
      "\n",
      "Currently on step 4400\n",
      "Accuracy is:\n",
      "0.3732\n",
      "\n",
      "\n",
      "Currently on step 4500\n",
      "Accuracy is:\n",
      "0.3817\n",
      "\n",
      "\n",
      "Currently on step 4600\n",
      "Accuracy is:\n",
      "0.3777\n",
      "\n",
      "\n",
      "Currently on step 4700\n",
      "Accuracy is:\n",
      "0.3867\n",
      "\n",
      "\n",
      "Currently on step 4800\n",
      "Accuracy is:\n",
      "0.3752\n",
      "\n",
      "\n",
      "Currently on step 4900\n",
      "Accuracy is:\n",
      "0.379\n",
      "\n",
      "\n"
     ]
    }
   ],
   "source": [
    "with tf.Session() as sess:\n",
    "    sess.run(tf.global_variables_initializer())\n",
    "\n",
    "    for i in range(5000):\n",
    "        batch = ch.next_batch(100)\n",
    "        sess.run(train, feed_dict={x: batch[0], y: batch[1], hold_prob: 0.5})\n",
    "        \n",
    "        # PRINT OUT A MESSAGE EVERY 100 STEPS\n",
    "        if i%100 == 0:\n",
    "            \n",
    "            print('Currently on step {}'.format(i))\n",
    "            print('Accuracy is:')\n",
    "            # Test the Train Model\n",
    "            matches = tf.equal(tf.argmax(y_pred,1),tf.argmax(y,1))\n",
    "\n",
    "            acc = tf.reduce_mean(tf.cast(matches,tf.float32))\n",
    "\n",
    "            print(sess.run(acc,feed_dict={x:ch.test_images,y:ch.test_labels,hold_prob:1.0}))\n",
    "            print('\\n')"
   ]
  },
  {
   "cell_type": "code",
   "execution_count": null,
   "metadata": {},
   "outputs": [],
   "source": []
  },
  {
   "cell_type": "code",
   "execution_count": null,
   "metadata": {},
   "outputs": [],
   "source": []
  }
 ],
 "metadata": {
  "kernelspec": {
   "display_name": "Python 3",
   "language": "python",
   "name": "python3"
  },
  "language_info": {
   "codemirror_mode": {
    "name": "ipython",
    "version": 3
   },
   "file_extension": ".py",
   "mimetype": "text/x-python",
   "name": "python",
   "nbconvert_exporter": "python",
   "pygments_lexer": "ipython3",
   "version": "3.7.3"
  }
 },
 "nbformat": 4,
 "nbformat_minor": 2
}
